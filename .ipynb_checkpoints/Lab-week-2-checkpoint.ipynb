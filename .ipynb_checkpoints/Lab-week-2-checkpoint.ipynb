{
 "cells": [
  {
   "cell_type": "markdown",
   "id": "e7021be8",
   "metadata": {},
   "source": [
    "# Problem 1"
   ]
  },
  {
   "cell_type": "code",
   "execution_count": null,
   "id": "7de3f0e4",
   "metadata": {},
   "outputs": [],
   "source": [
    "import numpy as np\n",
    "x = np.random.randint(low=1, high=101)\n",
    "x"
   ]
  },
  {
   "cell_type": "code",
   "execution_count": null,
   "id": "95d254da",
   "metadata": {},
   "outputs": [],
   "source": [
    "while(True):\n",
    "    user_input = int(input('TYPE YOUR GUESS: '))\n",
    "    if user_input > x:\n",
    "        print('Too large, try again.')\n",
    "    elif user_input < x:\n",
    "        print('Too small, try again.')\n",
    "    else:\n",
    "        print('Well done! You won the challenge!')\n",
    "        break"
   ]
  },
  {
   "cell_type": "markdown",
   "id": "b7453e7f",
   "metadata": {},
   "source": [
    "# Problem 2"
   ]
  },
  {
   "cell_type": "code",
   "execution_count": null,
   "id": "02c4e83c",
   "metadata": {},
   "outputs": [],
   "source": [
    "num_attempts = 0\n",
    "while(True):\n",
    "    if num_attempts == 6:\n",
    "        print('GAME OVER!')\n",
    "        break\n",
    "    user_input = int(input('TYPE YOUR GUESS: '))\n",
    "    if user_input > x:\n",
    "        print('Too large, try again.')\n",
    "        num_attempts += 1\n",
    "    elif user_input < x:\n",
    "        print('Too small, try again.')\n",
    "        num_attempts += 1\n",
    "    else:\n",
    "        print('Well done! You won the challenge!')\n",
    "        break"
   ]
  }
 ],
 "metadata": {
  "kernelspec": {
   "display_name": "SageMath 9.2",
   "language": "sage",
   "name": "sagemath"
  },
  "language_info": {
   "codemirror_mode": {
    "name": "ipython",
    "version": 3
   },
   "file_extension": ".py",
   "mimetype": "text/x-python",
   "name": "python",
   "nbconvert_exporter": "python",
   "pygments_lexer": "ipython3",
   "version": "3.7.10"
  }
 },
 "nbformat": 4,
 "nbformat_minor": 5
}
